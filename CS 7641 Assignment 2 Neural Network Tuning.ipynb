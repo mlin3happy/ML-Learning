{
 "cells": [
  {
   "cell_type": "code",
   "execution_count": 1,
   "id": "c32fca4f",
   "metadata": {},
   "outputs": [],
   "source": [
    "import mlrose_hiive\n",
    "import numpy as np\n",
    "import scipy as sp\n",
    "import pandas as pd\n",
    "import matplotlib.pyplot as plt\n",
    "import seaborn as sns\n",
    "import os\n",
    "from sklearn.preprocessing import LabelEncoder\n",
    "from sklearn.model_selection import train_test_split,RandomizedSearchCV, GridSearchCV, learning_curve, validation_curve, cross_val_score\n",
    "from sklearn import tree\n",
    "from sklearn.metrics import accuracy_score, classification_report, confusion_matrix, precision_score, recall_score, mean_squared_error,ConfusionMatrixDisplay\n",
    "from sklearn.neural_network import MLPClassifier\n",
    "from sklearn.preprocessing import StandardScaler\n",
    "from sklearn import preprocessing\n",
    "from sklearn import svm\n",
    "import time\n",
    "\n"
   ]
  },
  {
   "cell_type": "code",
   "execution_count": 2,
   "id": "da777070",
   "metadata": {},
   "outputs": [
    {
     "name": "stdout",
     "output_type": "stream",
     "text": [
      "Requirement already satisfied: six in c:\\users\\mlharv\\anaconda4\\lib\\site-packages (1.16.0)\n"
     ]
    }
   ],
   "source": [
    "!pip install six\n",
    "import six\n",
    "import sys\n",
    "sys.modules['sklearn.externals.six'] = six\n",
    "import mlrose"
   ]
  },
  {
   "cell_type": "markdown",
   "id": "626d1db1",
   "metadata": {},
   "source": [
    "Random Hill Climbing Parameter Tuning"
   ]
  },
  {
   "cell_type": "code",
   "execution_count": 5,
   "id": "7c7eaf89",
   "metadata": {},
   "outputs": [
    {
     "name": "stdout",
     "output_type": "stream",
     "text": [
      "best_accuracy_lic 36\n",
      "For RHC, best activation is tanh and best learning rate is 0.7\n"
     ]
    }
   ],
   "source": [
    "import itertools\n",
    "df=pd.read_csv(\"https://raw.githubusercontent.com/plotly/datasets/master/diabetes.csv\", sep=\",\", header=0, index_col=False)\n",
    "df.head()\n",
    "\n",
    "df.dropna(inplace=True)\n",
    "X=df.drop(columns=['Outcome'])\n",
    "y=df['Outcome']\n",
    "x_train,x_test,y_train,y_test=train_test_split(X,y,test_size=0.25, random_state=42)\n",
    "\n",
    "activation_list=['identity','relu','sigmoid','tanh']\n",
    "learning_rate_list=[0.1,0.2,0.3,0.4,0.5,0.6,0.7,0.8,0.9,1]\n",
    "combined_hyper=list(itertools.product(activation_list, learning_rate_list))\n",
    "accuracy_score_list=[]\n",
    "\n",
    "for i in combined_hyper:\n",
    "    rhd=mlrose_hiive.NeuralNetwork(hidden_nodes=[4,], activation=i[0], algorithm='random_hill_climb', early_stopping=True, max_attempts=100, max_iters=100, bias=True, learning_rate=i[1], curve=True, random_state=42) \n",
    "    rhd.fit(x_train, y_train)\n",
    "    y_prediction=rhd.predict(x_test)\n",
    "    rhd_test_score=accuracy_score(y_test,y_prediction)\n",
    "    accuracy_score_list.append(rhd_test_score)\n",
    "best_accuracy=max(accuracy_score_list)\n",
    "best_accuracy_loc=accuracy_score_list.index(best_accuracy)\n",
    "print(\"best_accuracy_lic\", best_accuracy_loc)\n",
    "best_combined=combined_hyper[best_accuracy_loc]\n",
    "print(\"For RHC, best activation is {} and best learning rate is {}\".format(best_combined[0], best_combined[1]))\n",
    "\n"
   ]
  },
  {
   "cell_type": "markdown",
   "id": "f39ab4a5",
   "metadata": {},
   "source": [
    "Simulated Annealing Parameter Tuning"
   ]
  },
  {
   "cell_type": "code",
   "execution_count": 6,
   "id": "9f0285ae",
   "metadata": {},
   "outputs": [
    {
     "name": "stdout",
     "output_type": "stream",
     "text": [
      "best_accuracy_lic 673\n",
      "For SA, best activation is identity, best init_temp is 50, best_decay_rate is0.9, best min temp is0.001 and best learning rate is 0.3\n"
     ]
    }
   ],
   "source": [
    "activation_list=['identity','relu','sigmoid','tanh']\n",
    "init_temp_list=[10,30,50,70,90,100]\n",
    "decay_list=[0.1,0.3,0.5,0.7,0.9,1]\n",
    "min_temp_list=[0.001,0.005,0.01,0.05,0.1,0.5,1]\n",
    "learning_rate_list=[0.1,0.3,0.5,0.7,0.9,1]\n",
    "combined_hyper=list(itertools.product(activation_list, init_temp_list, decay_list,min_temp_list, learning_rate_list))\n",
    "accuracy_score_list=[]\n",
    "for i in combined_hyper:\n",
    "    sa=mlrose_hiive.NeuralNetwork(hidden_nodes=[4,], activation=i[0], algorithm='simulated_annealing',schedule=mlrose.GeomDecay(init_temp=i[1], decay=i[2],min_temp=i[4]), early_stopping=True, max_attempts=100, max_iters=100, bias=True, learning_rate=i[4], curve=True, random_state=42)   \n",
    "    sa.fit(x_train, y_train)\n",
    "    y_prediction=sa.predict(x_test)\n",
    "    sa_test_score=accuracy_score(y_test,y_prediction)\n",
    "    accuracy_score_list.append(sa_test_score)\n",
    "best_accuracy=max(accuracy_score_list)\n",
    "best_accuracy_loc=accuracy_score_list.index(best_accuracy)\n",
    "print(\"best_accuracy_lic\", best_accuracy_loc)\n",
    "best_combined=combined_hyper[best_accuracy_loc]\n",
    "print(\"For SA, best activation is {}, best init_temp is {}, best_decay_rate is{}, best min temp is{} and best learning rate is {}\".format(best_combined[0], best_combined[1], best_combined[2],best_combined[3], best_combined[4] ))\n",
    "\n"
   ]
  },
  {
   "cell_type": "markdown",
   "id": "c4192953",
   "metadata": {},
   "source": [
    "Genetic Algorithm Parameter Tuning"
   ]
  },
  {
   "cell_type": "code",
   "execution_count": 17,
   "id": "93c2abe4",
   "metadata": {},
   "outputs": [
    {
     "name": "stdout",
     "output_type": "stream",
     "text": [
      "best_accuracy_lic 37\n",
      "For GA, best activation is identity, best pop size is 250 and best mutation prob is0.6\n"
     ]
    }
   ],
   "source": [
    "activation_list=['identity','relu','sigmoid','tanh']\n",
    "pop_size_list=[50,100,150,200,250,300,350,400]\n",
    "mutation_prob_list=[0.1,0.2,0.3,0.4,0.5,0.6,0.7,0.8]\n",
    "combined_hyper=list(itertools.product(activation_list,pop_size_list,mutation_prob_list))\n",
    "accuracy_score_list=[]\n",
    "for i in combined_hyper:    \n",
    "    ga=mlrose_hiive.NeuralNetwork(hidden_nodes=[4,], activation=i[0], algorithm='genetic_alg', early_stopping=True, max_attempts=100, max_iters=100, bias=True, learning_rate=0.01, curve=True, random_state=42, pop_size=i[1], mutation_prob=i[2])\n",
    "    ga.fit(x_train, y_train)\n",
    "    y_prediction=ga.predict(x_test)\n",
    "    ga_test_score=accuracy_score(y_test,y_prediction)\n",
    "    accuracy_score_list.append(ga_test_score)\n",
    "best_accuracy=max(accuracy_score_list)\n",
    "best_accuracy_loc=accuracy_score_list.index(best_accuracy)\n",
    "print(\"best_accuracy_lic\", best_accuracy_loc)\n",
    "best_combined=combined_hyper[best_accuracy_loc]\n",
    "print(\"For GA, best activation is {}, best pop size is {} and best mutation prob is{}\".format(best_combined[0], best_combined[1], best_combined[2] ))\n"
   ]
  }
 ],
 "metadata": {
  "kernelspec": {
   "display_name": "Python 3 (ipykernel)",
   "language": "python",
   "name": "python3"
  },
  "language_info": {
   "codemirror_mode": {
    "name": "ipython",
    "version": 3
   },
   "file_extension": ".py",
   "mimetype": "text/x-python",
   "name": "python",
   "nbconvert_exporter": "python",
   "pygments_lexer": "ipython3",
   "version": "3.9.13"
  }
 },
 "nbformat": 4,
 "nbformat_minor": 5
}
