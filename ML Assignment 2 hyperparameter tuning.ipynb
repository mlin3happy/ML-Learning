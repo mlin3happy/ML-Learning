{
 "cells": [
  {
   "cell_type": "code",
   "execution_count": 1,
   "id": "d3c93289",
   "metadata": {},
   "outputs": [
    {
     "name": "stdout",
     "output_type": "stream",
     "text": [
      "Requirement already satisfied: mlrose_hiive in c:\\users\\mlharv\\anaconda4\\lib\\site-packages (2.2.4)\n",
      "Requirement already satisfied: scikit-learn in c:\\users\\mlharv\\anaconda4\\lib\\site-packages (from mlrose_hiive) (1.0.2)\n",
      "Requirement already satisfied: scipy in c:\\users\\mlharv\\anaconda4\\lib\\site-packages (from mlrose_hiive) (1.9.1)\n",
      "Requirement already satisfied: pandas in c:\\users\\mlharv\\anaconda4\\lib\\site-packages (from mlrose_hiive) (1.4.4)\n",
      "Requirement already satisfied: networkx in c:\\users\\mlharv\\anaconda4\\lib\\site-packages (from mlrose_hiive) (2.8.4)\n",
      "Requirement already satisfied: numpy in c:\\users\\mlharv\\anaconda4\\lib\\site-packages (from mlrose_hiive) (1.21.5)\n",
      "Requirement already satisfied: joblib in c:\\users\\mlharv\\anaconda4\\lib\\site-packages (from mlrose_hiive) (1.1.0)\n",
      "Requirement already satisfied: pytz>=2020.1 in c:\\users\\mlharv\\anaconda4\\lib\\site-packages (from pandas->mlrose_hiive) (2022.1)\n",
      "Requirement already satisfied: python-dateutil>=2.8.1 in c:\\users\\mlharv\\anaconda4\\lib\\site-packages (from pandas->mlrose_hiive) (2.8.2)\n",
      "Requirement already satisfied: threadpoolctl>=2.0.0 in c:\\users\\mlharv\\anaconda4\\lib\\site-packages (from scikit-learn->mlrose_hiive) (2.2.0)\n",
      "Requirement already satisfied: six>=1.5 in c:\\users\\mlharv\\anaconda4\\lib\\site-packages (from python-dateutil>=2.8.1->pandas->mlrose_hiive) (1.16.0)\n",
      "Requirement already satisfied: mlrose in c:\\users\\mlharv\\anaconda4\\lib\\site-packages (1.3.0)\n",
      "Requirement already satisfied: sklearn in c:\\users\\mlharv\\anaconda4\\lib\\site-packages (from mlrose) (0.0.post9)\n",
      "Requirement already satisfied: scipy in c:\\users\\mlharv\\anaconda4\\lib\\site-packages (from mlrose) (1.9.1)\n",
      "Requirement already satisfied: numpy in c:\\users\\mlharv\\anaconda4\\lib\\site-packages (from mlrose) (1.21.5)\n",
      "Requirement already satisfied: six in c:\\users\\mlharv\\anaconda4\\lib\\site-packages (1.16.0)\n"
     ]
    }
   ],
   "source": [
    "!pip install mlrose_hiive\n",
    "!pip install mlrose\n",
    "!pip install six\n",
    "import six\n",
    "import sys\n",
    "sys.modules['sklearn.externals.six'] = six\n",
    "import mlrose\n",
    "import matplotlib.pyplot as plt\n",
    "import mlrose_hiive\n",
    "import mlrose\n",
    "import pandas as pd\n",
    "import time"
   ]
  },
  {
   "cell_type": "code",
   "execution_count": 21,
   "id": "77aa22b9",
   "metadata": {},
   "outputs": [],
   "source": [
    "from itertools import product\n",
    "import itertools\n",
    "import matplotlib.pyplot as plt"
   ]
  },
  {
   "cell_type": "markdown",
   "id": "66efb6a4",
   "metadata": {},
   "source": [
    "Random Hill Climbing Hyperparameter Tuning"
   ]
  },
  {
   "cell_type": "code",
   "execution_count": 29,
   "id": "51c73367",
   "metadata": {},
   "outputs": [
    {
     "name": "stdout",
     "output_type": "stream",
     "text": [
      "For RHC, best restart value for Six_Peaks is 75\n",
      "For RHC, best restart value for Continuous_Peak is 25\n",
      "For RHC, best restart value for One_Max is 100\n"
     ]
    }
   ],
   "source": [
    "fitness_functions=[('Six_Peaks',mlrose_hiive.SixPeaks(t_pct=0.5)),('Continuous_Peak',mlrose_hiive.ContinuousPeaks(t_pct=0.2)),('One_Max',mlrose_hiive.OneMax())]\n",
    "start_num=[0,25,75,100,125]\n",
    "for i in fitness_functions:\n",
    "    fitness_func=i[1]\n",
    "    fitness_score=[]\n",
    "    for j in start_num:        \n",
    "        problem=mlrose_hiive.DiscreteOpt(length=100, fitness_fn=fitness_func, maximize=True)\n",
    "        rhc_best_state, rhc_best_fitness, rhc_fitness_curve=mlrose_hiive.random_hill_climb(problem, max_attempts=100, max_iters=100, curve=True, random_state=42, restarts=j)\n",
    "        fitness_score.append(rhc_best_fitness)\n",
    "    best_fitness_num=max(fitness_score)\n",
    "    best_fitness_loc=fitness_score.index(best_fitness_num)   \n",
    "    best_start=start_num[best_fitness_loc]\n",
    "    print(\"For RHC, best restart value for {} is {}\".format(i[0], str(best_start)))\n",
    "\n",
    "        \n",
    "        \n",
    "        \n",
    "        \n",
    "        \n",
    "        \n",
    "        "
   ]
  },
  {
   "cell_type": "markdown",
   "id": "1843cf46",
   "metadata": {},
   "source": [
    "Simulated Annealing Hyperparameter Tuning"
   ]
  },
  {
   "cell_type": "code",
   "execution_count": 31,
   "id": "4cff6c54",
   "metadata": {},
   "outputs": [
    {
     "name": "stdout",
     "output_type": "stream",
     "text": [
      "For SA, best hyper_parameters for Six_Peaks is (10, 0.1, 0.001)\n",
      "For SA, best hyper_parameters for Continuous_Peak is (10, 0.1, 0.001)\n",
      "For SA, best hyper_parameters for One_Max is (10, 0.1, 0.001)\n"
     ]
    }
   ],
   "source": [
    "fitness_functions=[('Six_Peaks',mlrose_hiive.SixPeaks(t_pct=0.5)),('Continuous_Peak',mlrose_hiive.ContinuousPeaks(t_pct=0.2)),('One_Max',mlrose_hiive.OneMax())]\n",
    "init_temp_list=[10,20,30,40,50,60,70,80,90,100]\n",
    "decay_list=[0.1,0.2,0.3,0.4,0.5,0.6,0.7,0.8,0.9,1]\n",
    "min_temp_list=[0.001,0.004,0.008,0.01,0.04,0.08,0.1,0.4,0.8,1]\n",
    "\n",
    "combined_hyper=list(itertools.product(init_temp_list,decay_list,min_temp_list))\n",
    "for i in fitness_functions:\n",
    "    fitness_func=i[1]\n",
    "    fitness_score=[]\n",
    "    for j in combined_hyper:        \n",
    "        problem=mlrose_hiive.DiscreteOpt(length=100, fitness_fn=fitness_func, maximize=True)\n",
    "        decay=mlrose_hiive.GeomDecay(init_temp=j[0],decay=j[1], min_temp=j[2])\n",
    "        SA_best_state, SA_best_fitness, SA_fitness_curve=mlrose_hiive.simulated_annealing(problem, max_attempts=100, max_iters=100, curve=True, random_state=42, schedule=decay)\n",
    "        fitness_score.append(SA_best_fitness)\n",
    "    best_fitness_num=max(fitness_score)\n",
    "    best_fitness_loc=fitness_score.index(best_fitness_num)   \n",
    "    best_hyperparameter=combined_hyper[best_fitness_loc]\n",
    "    print(\"For SA, best hyper_parameters for {} is {}\".format(i[0], str(best_hyperparameter)))"
   ]
  },
  {
   "cell_type": "code",
   "execution_count": 32,
   "id": "5ac2379d",
   "metadata": {},
   "outputs": [
    {
     "name": "stdout",
     "output_type": "stream",
     "text": [
      "For GA, best hyper_parameters for Six_Peaks is (400, 0.3)\n",
      "For GA, best hyper_parameters for Continuous_Peak is (250, 0.1)\n",
      "For GA, best hyper_parameters for One_Max is (50, 0.1)\n"
     ]
    }
   ],
   "source": [
    "fitness_functions=[('Six_Peaks',mlrose_hiive.SixPeaks(t_pct=0.5)),('Continuous_Peak',mlrose_hiive.ContinuousPeaks(t_pct=0.2)),('One_Max',mlrose_hiive.OneMax())]\n",
    "pop_size_list=[50,100,150,200,250,300,350,400]\n",
    "mutation_prob_list=[0.1,0.2,0.3,0.4,0.5,0.6,0.7,0.8]\n",
    "combined_hyper=list(itertools.product(pop_size_list,mutation_prob_list))\n",
    "for i in fitness_functions:\n",
    "    fitness_func=i[1]\n",
    "    fitness_score=[]\n",
    "    for j in combined_hyper:        \n",
    "        problem=mlrose_hiive.DiscreteOpt(length=100, fitness_fn=fitness_func, maximize=True)\n",
    "        \n",
    "        GA_best_state, GA_best_fitness, GA_fitness_curve=mlrose_hiive.genetic_alg(problem, max_attempts=100, max_iters=100, curve=True, random_state=42, pop_size=j[0], mutation_prob=j[1])\n",
    "        fitness_score.append(GA_best_fitness)\n",
    "    best_fitness_num=max(fitness_score)\n",
    "    best_fitness_loc=fitness_score.index(best_fitness_num)   \n",
    "    best_hyperparameter=combined_hyper[best_fitness_loc]\n",
    "    print(\"For GA, best hyper_parameters for {} is {}\".format(i[0], str(best_hyperparameter)))"
   ]
  },
  {
   "cell_type": "markdown",
   "id": "f04be67b",
   "metadata": {},
   "source": [
    "MIMIC"
   ]
  },
  {
   "cell_type": "code",
   "execution_count": 34,
   "id": "e97c598d",
   "metadata": {},
   "outputs": [
    {
     "name": "stdout",
     "output_type": "stream",
     "text": [
      "For MIMIC, best pop size value for Six_Peaks is 500\n",
      "For MIMIC, best pop size value for Continuous_Peak is 300\n",
      "For MIMIC, best pop size value for One_Max is 200\n"
     ]
    }
   ],
   "source": [
    "fitness_functions=[('Six_Peaks',mlrose_hiive.SixPeaks(t_pct=0.5)),('Continuous_Peak',mlrose_hiive.ContinuousPeaks(t_pct=0.2)),('One_Max',mlrose_hiive.OneMax())]\n",
    "pop_size_list=[100,200,300,400,500]\n",
    "for i in fitness_functions:\n",
    "    fitness_func=i[1]\n",
    "    fitness_score=[]\n",
    "    for j in pop_size_list :        \n",
    "        problem=mlrose_hiive.DiscreteOpt(length=100, fitness_fn=fitness_func, maximize=True)\n",
    "        mimic_best_state, mimic_best_fitness, mimic_fitness_curve=mlrose_hiive.mimic(problem, max_attempts=100, max_iters=100, curve=True, random_state=42, pop_size=j)\n",
    "        fitness_score.append(mimic_best_fitness)\n",
    "    best_fitness_num=max(fitness_score)\n",
    "    best_fitness_loc=fitness_score.index(best_fitness_num)   \n",
    "    best_pop=pop_size_list[best_fitness_loc]\n",
    "    print(\"For MIMIC, best pop size value for {} is {}\".format(i[0], str(best_pop)))\n",
    "   "
   ]
  },
  {
   "cell_type": "code",
   "execution_count": null,
   "id": "bffb047f",
   "metadata": {},
   "outputs": [],
   "source": []
  }
 ],
 "metadata": {
  "kernelspec": {
   "display_name": "Python 3 (ipykernel)",
   "language": "python",
   "name": "python3"
  },
  "language_info": {
   "codemirror_mode": {
    "name": "ipython",
    "version": 3
   },
   "file_extension": ".py",
   "mimetype": "text/x-python",
   "name": "python",
   "nbconvert_exporter": "python",
   "pygments_lexer": "ipython3",
   "version": "3.9.13"
  }
 },
 "nbformat": 4,
 "nbformat_minor": 5
}
